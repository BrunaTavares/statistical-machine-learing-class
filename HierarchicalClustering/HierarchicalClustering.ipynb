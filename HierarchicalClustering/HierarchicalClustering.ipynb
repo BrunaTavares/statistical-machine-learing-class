{
 "cells": [
  {
   "cell_type": "code",
   "execution_count": 125,
   "metadata": {},
   "outputs": [
    {
     "data": {
      "text/plain": [
       "[1.2,\n",
       " 2.0025,\n",
       " 1.3153,\n",
       " 1.5524,\n",
       " 1.005,\n",
       " 1.8,\n",
       " 1.1045,\n",
       " 1.3342,\n",
       " 0.922,\n",
       " 1.7029,\n",
       " 1.0,\n",
       " 1.2166,\n",
       " 1.3342,\n",
       " 2.1095,\n",
       " 1.4036,\n",
       " 1.6031]"
      ]
     },
     "execution_count": 125,
     "metadata": {},
     "output_type": "execute_result"
    }
   ],
   "source": [
    "from sklearn.cluster import AgglomerativeClustering\n",
    "import numpy as np\n",
    "import math\n",
    "\n",
    "A=np.array([[4.7,3.2],[4.9 ,3.1],[5.0 ,3.0],[4.6, 2.9]])\n",
    "a= [[4.7,3.2],[4.9 ,3.1],[5.0 ,3.0],[4.6, 2.9]]\n",
    "B=np.array([[5.9, 3.2],[6.7 ,3.1],[6.0, 3.0],[6.2, 2.8]])\n",
    "b = [[5.9, 3.2],[6.7 ,3.1],[6.0, 3.0],[6.2, 2.8]]\n",
    "dist = []\n",
    "\n",
    "\n",
    "for i in range(len(a)):\n",
    "    for j in range(len(b)):\n",
    "        dist.insert(len(dist),round(math.sqrt((a[i][0]-b[j][0])**2 + (a[i][1]-b[j][1])**2),4))\n",
    "dist"
   ]
  },
  {
   "cell_type": "code",
   "execution_count": 126,
   "metadata": {},
   "outputs": [
    {
     "data": {
      "text/plain": [
       "0.922"
      ]
     },
     "execution_count": 126,
     "metadata": {},
     "output_type": "execute_result"
    }
   ],
   "source": [
    "min(dist)"
   ]
  },
  {
   "cell_type": "code",
   "execution_count": 127,
   "metadata": {},
   "outputs": [
    {
     "data": {
      "text/plain": [
       "2.1095"
      ]
     },
     "execution_count": 127,
     "metadata": {},
     "output_type": "execute_result"
    }
   ],
   "source": [
    "max(dist)"
   ]
  },
  {
   "cell_type": "code",
   "execution_count": 130,
   "metadata": {},
   "outputs": [
    {
     "data": {
      "text/plain": [
       "1.4129"
      ]
     },
     "execution_count": 130,
     "metadata": {},
     "output_type": "execute_result"
    }
   ],
   "source": [
    "round(np.mean(dist),4)"
   ]
  },
  {
   "cell_type": "code",
   "execution_count": null,
   "metadata": {},
   "outputs": [],
   "source": []
  }
 ],
 "metadata": {
  "kernelspec": {
   "display_name": "Python [default]",
   "language": "python",
   "name": "python3"
  },
  "language_info": {
   "codemirror_mode": {
    "name": "ipython",
    "version": 3
   },
   "file_extension": ".py",
   "mimetype": "text/x-python",
   "name": "python",
   "nbconvert_exporter": "python",
   "pygments_lexer": "ipython3",
   "version": "3.6.3"
  }
 },
 "nbformat": 4,
 "nbformat_minor": 2
}
